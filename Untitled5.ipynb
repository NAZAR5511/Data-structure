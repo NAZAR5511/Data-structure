{
  "nbformat": 4,
  "nbformat_minor": 0,
  "metadata": {
    "colab": {
      "provenance": []
    },
    "kernelspec": {
      "name": "python3",
      "display_name": "Python 3"
    },
    "language_info": {
      "name": "python"
    }
  },
  "cells": [
    {
      "cell_type": "markdown",
      "source": [
        "1. What are data structures, and why are they important?\n",
        "- Data structures are ways of organizing and storing data in a computer so that it can be accessed and modified efficiently. They are important because they allow programmers to organize data in ways that make it easier to perform specific operations (like searching, sorting, or inserting data) efficiently."
      ],
      "metadata": {
        "id": "8kdpfGoHR8K9"
      }
    },
    {
      "cell_type": "markdown",
      "source": [
        "# 2"
      ],
      "metadata": {
        "id": "vwFzyS3gSQl7"
      }
    },
    {
      "cell_type": "markdown",
      "source": [
        "Explain the difference between mutable and immutable data types with examples.\n",
        "- Mutable data types can be changed after creation (e.g., lists, dictionaries, sets).\n",
        "- Example:\n"
      ],
      "metadata": {
        "id": "WQdl1cGsSkoU"
      }
    },
    {
      "cell_type": "code",
      "source": [
        "my_list = [1, 2, 3]\n",
        "my_list[0] = 10  # Lists can be changed\n",
        "my_list"
      ],
      "metadata": {
        "colab": {
          "base_uri": "https://localhost:8080/"
        },
        "id": "LIIvQhz_TXSI",
        "outputId": "edb3bb76-d1ce-408c-eb9c-145156e1b395"
      },
      "execution_count": null,
      "outputs": [
        {
          "output_type": "execute_result",
          "data": {
            "text/plain": [
              "[10, 2, 3]"
            ]
          },
          "metadata": {},
          "execution_count": 3
        }
      ]
    },
    {
      "cell_type": "code",
      "source": [
        "#Immutable data types cannot be changed after creation (e.g., strings, tuples).\n",
        "\n",
        "my_tuple = (1, 2, 3)\n",
        "# my_tuple[0] = 10  # This will raise an error because tuples are immutable"
      ],
      "metadata": {
        "id": "xbATpBhGTdO0"
      },
      "execution_count": null,
      "outputs": []
    },
    {
      "cell_type": "markdown",
      "source": [
        "# 3"
      ],
      "metadata": {
        "id": "kZnEsNVzU846"
      }
    },
    {
      "cell_type": "markdown",
      "source": [
        " What are the main differences between lists and tuples in Python?\n",
        "\n",
        "- Lists are mutable, meaning you can change their content (e.g., add or remove elements).\n",
        "- Tuples are immutable, meaning once created, their content cannot be modified.\n",
        "- Use case difference: Use a list when you need to change the content, and a - tuple when you need to ensure the data cannot be changed."
      ],
      "metadata": {
        "id": "CvSLQeivVAB9"
      }
    },
    {
      "cell_type": "markdown",
      "source": [
        "# 4"
      ],
      "metadata": {
        "id": "izBV2LoAVVok"
      }
    },
    {
      "cell_type": "markdown",
      "source": [
        "Describe how dictionaries store data.\n",
        "- Dictionaries store data in key-value pairs. Each key is unique, and it maps to a specific value.\n"
      ],
      "metadata": {
        "id": "ENiArNDZVgTx"
      }
    },
    {
      "cell_type": "code",
      "source": [
        "my_dict = {'name': 'Alice', 'age': 30}"
      ],
      "metadata": {
        "id": "XBdrEy3eVpN9"
      },
      "execution_count": null,
      "outputs": []
    },
    {
      "cell_type": "markdown",
      "source": [
        "# 5"
      ],
      "metadata": {
        "id": "Ic9umN7oV5PB"
      }
    },
    {
      "cell_type": "markdown",
      "source": [
        "Why might you use a set instead of a list in Python?\n",
        "- A set is used when you want to store unique values and do not care about the order of the elements.\n",
        "- Sets automatically eliminate duplicates, unlike lists."
      ],
      "metadata": {
        "id": "WBYgdQZuV9IP"
      }
    },
    {
      "cell_type": "markdown",
      "source": [
        "# 6"
      ],
      "metadata": {
        "id": "YL47HOrcWJkq"
      }
    },
    {
      "cell_type": "markdown",
      "source": [
        "What is a string in Python, and how is it different from a list?\n",
        "- A string is a sequence of characters (e.g., \"hello\").\n",
        "- Difference: A string is immutable (cannot be changed after creation), while a - list is mutable (its elements can be modified)."
      ],
      "metadata": {
        "id": "WRprlBAuWZXY"
      }
    },
    {
      "cell_type": "markdown",
      "source": [
        "# 7"
      ],
      "metadata": {
        "id": "F6umva9OWr2a"
      }
    },
    {
      "cell_type": "markdown",
      "source": [
        "How do tuples ensure data integrity in Python?\n",
        "- Tuples are immutable, which means once created, their elements cannot be changed. This ensures that the data remains consistent and unaltered throughout the program."
      ],
      "metadata": {
        "id": "YEL5MV4SXGNH"
      }
    },
    {
      "cell_type": "markdown",
      "source": [
        "# 8"
      ],
      "metadata": {
        "id": "9a2U8JmUXUBt"
      }
    },
    {
      "cell_type": "markdown",
      "source": [
        "What is a hash table, and how does it relate to dictionaries in Python?\n",
        "- A hash table is a data structure that maps keys to values using a hash function. Dictionaries in Python are implemented using hash tables, where each key is hashed to an index where its value is stored, allowing fast access."
      ],
      "metadata": {
        "id": "hJL5WYRmXcvo"
      }
    },
    {
      "cell_type": "markdown",
      "source": [
        "# 9"
      ],
      "metadata": {
        "id": "KjvmILqDXgPz"
      }
    },
    {
      "cell_type": "markdown",
      "source": [
        "Can lists contain different data types in Python?\n",
        "- Yes, lists can contain elements of different data types, such as integers, strings, and even other lists.\n",
        "\n",
        "my_list = [1, \"apple\", [2, 3]]"
      ],
      "metadata": {
        "id": "nZtNiIgpXph_"
      }
    },
    {
      "cell_type": "markdown",
      "source": [
        "# 10"
      ],
      "metadata": {
        "id": "_Q30tACjXwEp"
      }
    },
    {
      "cell_type": "markdown",
      "source": [
        " Explain why strings are immutable in Python.\n",
        "- Strings are immutable to protect against accidental changes. This allows Python to optimize memory and performance by reusing string objects and ensures that strings cannot be altered once created."
      ],
      "metadata": {
        "id": "lcyv6QLfXy4P"
      }
    },
    {
      "cell_type": "markdown",
      "source": [
        "# 11"
      ],
      "metadata": {
        "id": "lXlzGHifX7BE"
      }
    },
    {
      "cell_type": "markdown",
      "source": [
        " What advantages do dictionaries offer over lists for certain tasks?\n",
        "- Dictionaries provide fast lookups for data based on keys, while lists require searching through each element. Dictionaries are more efficient when you need to access or modify data by a unique identifier."
      ],
      "metadata": {
        "id": "UL-TZqo_X-is"
      }
    },
    {
      "cell_type": "markdown",
      "source": [
        "# 12"
      ],
      "metadata": {
        "id": "rDB95JL6YIic"
      }
    },
    {
      "cell_type": "markdown",
      "source": [
        " Describe a scenario where using a tuple would be preferable over a list.\n",
        "- Tuples are preferable when the data is meant to be constant and should not be modified, like representing coordinates (x, y) or storing fixed configuration settings."
      ],
      "metadata": {
        "id": "DtEDztDAYLAe"
      }
    },
    {
      "cell_type": "markdown",
      "source": [
        "# 13"
      ],
      "metadata": {
        "id": "LctJwoVvYZTR"
      }
    },
    {
      "cell_type": "markdown",
      "source": [
        "How do sets handle duplicate values in Python?\n",
        "- Sets automatically remove any duplicate values. If you try to add a duplicate, it will not appear in the set."
      ],
      "metadata": {
        "id": "xshmiZhvYeTb"
      }
    },
    {
      "cell_type": "markdown",
      "source": [
        "# 14"
      ],
      "metadata": {
        "id": "-7BgEyiUYpZs"
      }
    },
    {
      "cell_type": "markdown",
      "source": [
        " How does the “in” keyword work differently for lists and dictionaries?\n",
        "- For lists, the in keyword checks if an element exists in the list.\n",
        "- Example:\n",
        "\n",
        "- 2 in [1, 2, 3]  # Returns True\n",
        "- For dictionaries, the in keyword checks if a key exists in the dictionary.\n",
        "\n",
        "- 'name' in {'name': 'Alice'}  # Returns True"
      ],
      "metadata": {
        "id": "E_ovEGrmY4hA"
      }
    },
    {
      "cell_type": "markdown",
      "source": [
        "# 15"
      ],
      "metadata": {
        "id": "HvaguAvwZbHa"
      }
    },
    {
      "cell_type": "markdown",
      "source": [
        "Can you modify the elements of a tuple? Explain why or why not.\n",
        "- No, tuples are immutable, meaning you cannot change, add, or remove elements once they are created."
      ],
      "metadata": {
        "id": "WiFqJep0Ze8d"
      }
    },
    {
      "cell_type": "markdown",
      "source": [
        "# 16"
      ],
      "metadata": {
        "id": "0JFY8JARZlSC"
      }
    },
    {
      "cell_type": "markdown",
      "source": [
        "What is a nested dictionary, and give an example of its use case?\n",
        "- A nested dictionary is a dictionary where the value of a key is another dictionary.\n",
        "- Example:\n",
        "\n",
        "my_dict = {'person': {'name': 'Alice', 'age': 30}}\n",
        "- Use case: Storing hierarchical data, like user profiles, where each user has nested details."
      ],
      "metadata": {
        "id": "2EDfDkzOZpEB"
      }
    },
    {
      "cell_type": "markdown",
      "source": [
        "# 17"
      ],
      "metadata": {
        "id": "7LQdNIaIZ7sf"
      }
    },
    {
      "cell_type": "markdown",
      "source": [
        " Describe the time complexity of accessing elements in a dictionary.\n",
        "- Accessing an element in a dictionary by key is typically O(1), meaning it is a constant time operation."
      ],
      "metadata": {
        "id": "XiF1tfyUZ-4S"
      }
    },
    {
      "cell_type": "markdown",
      "source": [
        "# 18"
      ],
      "metadata": {
        "id": "0Sa-E_WlaJcB"
      }
    },
    {
      "cell_type": "markdown",
      "source": [
        "In what situations are lists preferred over dictionaries?\n",
        "- Lists are preferred when you need to maintain an ordered collection of items, and the order is important (e.g., a list of names in sequence)."
      ],
      "metadata": {
        "id": "KM0dIB3gaMpx"
      }
    },
    {
      "cell_type": "markdown",
      "source": [
        "# 19"
      ],
      "metadata": {
        "id": "RHspAR1AaVdG"
      }
    },
    {
      "cell_type": "markdown",
      "source": [
        "Why are dictionaries considered unordered, and how does that affect data retrieval?\n",
        "- Dictionaries are unordered because the keys do not have a guaranteed order. However, they still provide efficient access to values based on keys, unlike lists, which use indices."
      ],
      "metadata": {
        "id": "n9_IHfagaZGp"
      }
    },
    {
      "cell_type": "markdown",
      "source": [
        "# 20"
      ],
      "metadata": {
        "id": "PezZinVEah5l"
      }
    },
    {
      "cell_type": "markdown",
      "source": [
        "Explain the difference between a list and a dictionary in terms of data retrieval.\n",
        "- In a list, you retrieve data using an index (position).\n",
        "- Example: my_list[2]\n",
        "- In a dictionary, you retrieve data using a key.\n",
        "-  Example: my_dict['name']\n",
        "- Each of these data structures has specific use cases and helps with different tasks in Python programming!"
      ],
      "metadata": {
        "id": "DRx9gFX0aqB4"
      }
    },
    {
      "cell_type": "markdown",
      "source": [
        "## 1. Create a string with your name and print it\n",
        "\n"
      ],
      "metadata": {
        "id": "QgN7ledEbXqm"
      }
    },
    {
      "cell_type": "code",
      "source": [
        "name = \"Mohammed Nazar\"\n",
        "print(name)"
      ],
      "metadata": {
        "colab": {
          "base_uri": "https://localhost:8080/"
        },
        "id": "UU7ONSN7bj1h",
        "outputId": "e8598747-2d6f-4444-f399-1769083d7e69"
      },
      "execution_count": 6,
      "outputs": [
        {
          "output_type": "stream",
          "name": "stdout",
          "text": [
            "Mohammed Nazar\n"
          ]
        }
      ]
    },
    {
      "cell_type": "markdown",
      "source": [
        "## 2. Find the length of the string \"Hello World\"\n",
        "\n"
      ],
      "metadata": {
        "id": "TrkD6ybeb5BA"
      }
    },
    {
      "cell_type": "code",
      "source": [
        "text = \"Hello World\"\n",
        "length = len(text)\n",
        "print(length)"
      ],
      "metadata": {
        "colab": {
          "base_uri": "https://localhost:8080/"
        },
        "id": "wKdKREBcb8gb",
        "outputId": "37846e08-b40c-42c9-c7d8-448ac366d1f8"
      },
      "execution_count": 7,
      "outputs": [
        {
          "output_type": "stream",
          "name": "stdout",
          "text": [
            "11\n"
          ]
        }
      ]
    },
    {
      "cell_type": "markdown",
      "source": [
        "## 3. Slice the first 3 characters from the string \"Python Programming\""
      ],
      "metadata": {
        "id": "_knZiuCocJqR"
      }
    },
    {
      "cell_type": "code",
      "source": [
        "text = \"Python Programming\"\n",
        "sliced_text = text[:3]\n",
        "print(sliced_text)"
      ],
      "metadata": {
        "colab": {
          "base_uri": "https://localhost:8080/"
        },
        "id": "7nuW9q9scP1z",
        "outputId": "a57851f6-1126-4291-e60c-8409ae5e8b1d"
      },
      "execution_count": 8,
      "outputs": [
        {
          "output_type": "stream",
          "name": "stdout",
          "text": [
            "Pyt\n"
          ]
        }
      ]
    },
    {
      "cell_type": "markdown",
      "source": [
        "## 4. Convert the string \"hello\" to uppercase"
      ],
      "metadata": {
        "id": "8HFhuU-7cag7"
      }
    },
    {
      "cell_type": "code",
      "source": [
        "text = \"hello\"\n",
        "upper_text = text.upper()\n",
        "print(upper_text)"
      ],
      "metadata": {
        "colab": {
          "base_uri": "https://localhost:8080/"
        },
        "id": "yV8rDXw6cgr5",
        "outputId": "4587bf85-0d42-454d-aef4-56e185c6a978"
      },
      "execution_count": 9,
      "outputs": [
        {
          "output_type": "stream",
          "name": "stdout",
          "text": [
            "HELLO\n"
          ]
        }
      ]
    },
    {
      "cell_type": "markdown",
      "source": [
        "## 5. Replace the word \"apple\" with \"orange\" in the string \"I like apple\""
      ],
      "metadata": {
        "id": "PlDHCi-_csJM"
      }
    },
    {
      "cell_type": "code",
      "source": [
        "text = \"I like apple\"\n",
        "new_text = text.replace(\"apple\", \"orange\")\n",
        "print(new_text)"
      ],
      "metadata": {
        "colab": {
          "base_uri": "https://localhost:8080/"
        },
        "id": "LL1bav4mcyw0",
        "outputId": "da812995-3ce5-41b6-e2db-73daf2c94269"
      },
      "execution_count": 10,
      "outputs": [
        {
          "output_type": "stream",
          "name": "stdout",
          "text": [
            "I like orange\n"
          ]
        }
      ]
    },
    {
      "cell_type": "markdown",
      "source": [
        "## 6. Create a list with numbers 1 to 5 and print it"
      ],
      "metadata": {
        "id": "bUNke98Ic6Oh"
      }
    },
    {
      "cell_type": "code",
      "source": [
        "numbers = [1, 2, 3, 4, 5]\n",
        "print(numbers)"
      ],
      "metadata": {
        "colab": {
          "base_uri": "https://localhost:8080/"
        },
        "id": "uJESU7eFdAem",
        "outputId": "0950e21a-9203-4f98-aa54-5bffa55a3eaa"
      },
      "execution_count": 11,
      "outputs": [
        {
          "output_type": "stream",
          "name": "stdout",
          "text": [
            "[1, 2, 3, 4, 5]\n"
          ]
        }
      ]
    },
    {
      "cell_type": "markdown",
      "source": [
        "## 7. Append the number 10 to the list [1, 2, 3, 4]"
      ],
      "metadata": {
        "id": "Ho34oTthdIM2"
      }
    },
    {
      "cell_type": "code",
      "source": [
        "numbers = [1, 2, 3, 4]\n",
        "numbers.append(10)\n",
        "print(numbers)"
      ],
      "metadata": {
        "colab": {
          "base_uri": "https://localhost:8080/"
        },
        "id": "OOdz0sF3dOVG",
        "outputId": "70a9908f-24c9-45d4-d9bb-7897a9db3d77"
      },
      "execution_count": 12,
      "outputs": [
        {
          "output_type": "stream",
          "name": "stdout",
          "text": [
            "[1, 2, 3, 4, 10]\n"
          ]
        }
      ]
    },
    {
      "cell_type": "markdown",
      "source": [
        "## 8. Remove the number 3 from the list [1, 2, 3, 4, 5]"
      ],
      "metadata": {
        "id": "XVAmTJ2mdY2H"
      }
    },
    {
      "cell_type": "code",
      "source": [
        "numbers = [1, 2, 3, 4, 5]\n",
        "numbers.remove(3)\n",
        "print(numbers)"
      ],
      "metadata": {
        "colab": {
          "base_uri": "https://localhost:8080/"
        },
        "id": "91DgXyFddklT",
        "outputId": "b1597441-ecc1-4e2b-993a-08c1a1bb1131"
      },
      "execution_count": 13,
      "outputs": [
        {
          "output_type": "stream",
          "name": "stdout",
          "text": [
            "[1, 2, 4, 5]\n"
          ]
        }
      ]
    },
    {
      "cell_type": "markdown",
      "source": [
        "## 9. Access the second element in the list ['a', 'b', 'c', 'd']"
      ],
      "metadata": {
        "id": "HElUQmIxdrcd"
      }
    },
    {
      "cell_type": "code",
      "source": [
        "letters = ['a', 'b', 'c', 'd']\n",
        "second_element = letters[1]\n",
        "print(second_element)"
      ],
      "metadata": {
        "colab": {
          "base_uri": "https://localhost:8080/"
        },
        "id": "HDrJCZ2NdxPm",
        "outputId": "feb62f2a-13e3-4191-fcf1-37d5242f4bdd"
      },
      "execution_count": 14,
      "outputs": [
        {
          "output_type": "stream",
          "name": "stdout",
          "text": [
            "b\n"
          ]
        }
      ]
    },
    {
      "cell_type": "markdown",
      "source": [
        "## 10. Reverse the list [10, 20, 30, 40, 50]"
      ],
      "metadata": {
        "id": "Gi5-Wpp4d5PE"
      }
    },
    {
      "cell_type": "code",
      "source": [
        "numbers = [10, 20, 30, 40, 50]\n",
        "numbers.reverse()\n",
        "print(numbers)"
      ],
      "metadata": {
        "colab": {
          "base_uri": "https://localhost:8080/"
        },
        "id": "JvJqixzkeAhD",
        "outputId": "44e4b5f0-a223-4a4f-fb11-e4279b942da8"
      },
      "execution_count": 15,
      "outputs": [
        {
          "output_type": "stream",
          "name": "stdout",
          "text": [
            "[50, 40, 30, 20, 10]\n"
          ]
        }
      ]
    },
    {
      "cell_type": "markdown",
      "source": [
        "## 11. Create a tuple with the elements 10, 20, 30 and print it\n"
      ],
      "metadata": {
        "id": "t4nCJ0rUebbT"
      }
    },
    {
      "cell_type": "code",
      "source": [
        "my_tuple = (10, 20, 30)\n",
        "print(my_tuple)"
      ],
      "metadata": {
        "colab": {
          "base_uri": "https://localhost:8080/"
        },
        "id": "Ii1B3sNuekTj",
        "outputId": "893d0b27-4a0f-4da8-e5ba-e9e52e555223"
      },
      "execution_count": 16,
      "outputs": [
        {
          "output_type": "stream",
          "name": "stdout",
          "text": [
            "(10, 20, 30)\n"
          ]
        }
      ]
    },
    {
      "cell_type": "markdown",
      "source": [
        "## 12. Access the first element of the tuple ('apple', 'banana', 'cherry')"
      ],
      "metadata": {
        "id": "pZDlgfJJeqdW"
      }
    },
    {
      "cell_type": "code",
      "source": [
        "my_tuple = ('apple', 'banana', 'cherry')\n",
        "first_element = my_tuple[0]\n",
        "print(first_element)"
      ],
      "metadata": {
        "colab": {
          "base_uri": "https://localhost:8080/"
        },
        "id": "ED8Y6VEoexrm",
        "outputId": "a78dd802-758a-42bd-faa7-b96836cd3bba"
      },
      "execution_count": 17,
      "outputs": [
        {
          "output_type": "stream",
          "name": "stdout",
          "text": [
            "apple\n"
          ]
        }
      ]
    },
    {
      "cell_type": "markdown",
      "source": [
        "## 13. Count how many times the number 2 appears in the tuple (1, 2, 3, 2, 4, 2)"
      ],
      "metadata": {
        "id": "w2F7oza_e3t3"
      }
    },
    {
      "cell_type": "code",
      "source": [
        "my_tuple = (1, 2, 3, 2, 4, 2)\n",
        "count_of_2 = my_tuple.count(2)\n",
        "print(count_of_2)"
      ],
      "metadata": {
        "colab": {
          "base_uri": "https://localhost:8080/"
        },
        "id": "OFuCunTTe-BZ",
        "outputId": "14bfe516-733f-4c67-ae4f-743de3860146"
      },
      "execution_count": 18,
      "outputs": [
        {
          "output_type": "stream",
          "name": "stdout",
          "text": [
            "3\n"
          ]
        }
      ]
    },
    {
      "cell_type": "markdown",
      "source": [
        "## 14. Find the index of the element \"cat\" in the tuple ('dog', 'cat', 'rabbit')"
      ],
      "metadata": {
        "id": "2r5A1_hbfFp9"
      }
    },
    {
      "cell_type": "code",
      "source": [
        "my_tuple = ('dog', 'cat', 'rabbit')\n",
        "index_of_cat = my_tuple.index('cat')\n",
        "print(index_of_cat)"
      ],
      "metadata": {
        "colab": {
          "base_uri": "https://localhost:8080/"
        },
        "id": "2_RrhRdbfLhe",
        "outputId": "fe47e641-064e-4d7b-9be5-281bcf3a52ed"
      },
      "execution_count": 19,
      "outputs": [
        {
          "output_type": "stream",
          "name": "stdout",
          "text": [
            "1\n"
          ]
        }
      ]
    },
    {
      "cell_type": "markdown",
      "source": [
        "## 15. Check if the element \"banana\" is in the tuple ('apple', 'orange', 'banana')"
      ],
      "metadata": {
        "id": "jl9VFKarfWDO"
      }
    },
    {
      "cell_type": "code",
      "source": [
        "my_tuple = ('apple', 'orange', 'banana')\n",
        "is_banana_in_tuple = 'banana' in my_tuple\n",
        "print(is_banana_in_tuple)"
      ],
      "metadata": {
        "colab": {
          "base_uri": "https://localhost:8080/"
        },
        "id": "7IWxILUhfati",
        "outputId": "b8896288-bded-40f5-f3ae-8ff99922b72a"
      },
      "execution_count": 20,
      "outputs": [
        {
          "output_type": "stream",
          "name": "stdout",
          "text": [
            "True\n"
          ]
        }
      ]
    },
    {
      "cell_type": "markdown",
      "source": [
        "## 16. Create a set with the elements 1, 2, 3, 4, 5 and print it"
      ],
      "metadata": {
        "id": "h6xTx4JFfh9t"
      }
    },
    {
      "cell_type": "code",
      "source": [
        "my_set = {1, 2, 3, 4, 5}\n",
        "print(my_set)"
      ],
      "metadata": {
        "colab": {
          "base_uri": "https://localhost:8080/"
        },
        "id": "Nc5zfq8QfsuK",
        "outputId": "89fbea2f-55ab-4f12-ae99-b4fad735bdf6"
      },
      "execution_count": 21,
      "outputs": [
        {
          "output_type": "stream",
          "name": "stdout",
          "text": [
            "{1, 2, 3, 4, 5}\n"
          ]
        }
      ]
    },
    {
      "cell_type": "markdown",
      "source": [
        "## 17. Add the element 6 to the set {1, 2, 3, 4}"
      ],
      "metadata": {
        "id": "2l4zB8Fzfy8x"
      }
    },
    {
      "cell_type": "code",
      "source": [
        "my_set = {1, 2, 3, 4}\n",
        "my_set.add(6)\n",
        "print(my_set)"
      ],
      "metadata": {
        "colab": {
          "base_uri": "https://localhost:8080/"
        },
        "id": "3av9i_Yef5we",
        "outputId": "086cfb61-1833-46a2-b5c0-c8174330e7d8"
      },
      "execution_count": 22,
      "outputs": [
        {
          "output_type": "stream",
          "name": "stdout",
          "text": [
            "{1, 2, 3, 4, 6}\n"
          ]
        }
      ]
    },
    {
      "cell_type": "markdown",
      "source": [
        "## 18. Create a tuple with the elements 10, 20, 30 and print it"
      ],
      "metadata": {
        "id": "V9LPdLbYf_Xe"
      }
    },
    {
      "cell_type": "code",
      "source": [
        "my_tuple = (10, 20, 30)\n",
        "print(my_tuple)"
      ],
      "metadata": {
        "colab": {
          "base_uri": "https://localhost:8080/"
        },
        "id": "Ucd00I4TgG0L",
        "outputId": "2fcadf8f-c87c-4570-be8d-734e45c10192"
      },
      "execution_count": 23,
      "outputs": [
        {
          "output_type": "stream",
          "name": "stdout",
          "text": [
            "(10, 20, 30)\n"
          ]
        }
      ]
    },
    {
      "cell_type": "markdown",
      "source": [
        "## 19. Access the first element of the tuple ('apple', 'banana', 'cherry')"
      ],
      "metadata": {
        "id": "89I1G9WJgNcV"
      }
    },
    {
      "cell_type": "code",
      "source": [
        "my_tuple = ('apple', 'banana', 'cherry')\n",
        "first_element = my_tuple[0]\n",
        "print(first_element)"
      ],
      "metadata": {
        "colab": {
          "base_uri": "https://localhost:8080/"
        },
        "id": "w69neqjwgUeN",
        "outputId": "9d138882-2c48-4211-f6da-9a34b40827bf"
      },
      "execution_count": 24,
      "outputs": [
        {
          "output_type": "stream",
          "name": "stdout",
          "text": [
            "apple\n"
          ]
        }
      ]
    },
    {
      "cell_type": "markdown",
      "source": [
        "## 20. Count how many times the number 2 appears in the tuple (1, 2, 3, 2, 4, 2)"
      ],
      "metadata": {
        "id": "0OEXnXEqgd1x"
      }
    },
    {
      "cell_type": "code",
      "source": [
        "my_tuple = (1, 2, 3, 2, 4, 2)\n",
        "count_of_2 = my_tuple.count(2)\n",
        "print(count_of_2)"
      ],
      "metadata": {
        "colab": {
          "base_uri": "https://localhost:8080/"
        },
        "id": "i9TvnK_IgiWM",
        "outputId": "3a10c1f4-f245-4f0c-dbfc-9e2b425e3fb6"
      },
      "execution_count": 25,
      "outputs": [
        {
          "output_type": "stream",
          "name": "stdout",
          "text": [
            "3\n"
          ]
        }
      ]
    },
    {
      "cell_type": "markdown",
      "source": [
        "## 21. Find the index of the element \"cat\" in the tuple ('dog', 'cat', 'rabbit')"
      ],
      "metadata": {
        "id": "zWt43K6egoaX"
      }
    },
    {
      "cell_type": "code",
      "source": [
        "my_tuple = ('dog', 'cat', 'rabbit')\n",
        "index_of_cat = my_tuple.index('cat')\n",
        "print(index_of_cat)"
      ],
      "metadata": {
        "colab": {
          "base_uri": "https://localhost:8080/"
        },
        "id": "yUQeg7J3guNP",
        "outputId": "b99307b1-6478-4a1d-b40f-8b0608710572"
      },
      "execution_count": 26,
      "outputs": [
        {
          "output_type": "stream",
          "name": "stdout",
          "text": [
            "1\n"
          ]
        }
      ]
    },
    {
      "cell_type": "markdown",
      "source": [
        "## 22. Check if the element \"banana\" is in the tuple ('apple', 'orange', 'banana')"
      ],
      "metadata": {
        "id": "pCgMMHULg2-L"
      }
    },
    {
      "cell_type": "code",
      "source": [
        "my_tuple = ('apple', 'orange', 'banana')\n",
        "is_banana_in_tuple = 'banana' in my_tuple\n",
        "print(is_banana_in_tuple)"
      ],
      "metadata": {
        "colab": {
          "base_uri": "https://localhost:8080/"
        },
        "id": "X94IEQWjg8BD",
        "outputId": "aea49705-0c72-4864-9f8c-107f5e11bc20"
      },
      "execution_count": 27,
      "outputs": [
        {
          "output_type": "stream",
          "name": "stdout",
          "text": [
            "True\n"
          ]
        }
      ]
    },
    {
      "cell_type": "markdown",
      "source": [
        "## 23. Create a set with the elements 1, 2, 3, 4, 5 and print it"
      ],
      "metadata": {
        "id": "Jza9WHeDhG3u"
      }
    },
    {
      "cell_type": "code",
      "source": [
        "my_set = {1, 2, 3, 4, 5}\n",
        "print(my_set)"
      ],
      "metadata": {
        "colab": {
          "base_uri": "https://localhost:8080/"
        },
        "id": "2Gr9We4YhL9m",
        "outputId": "efe07f1d-070f-4f82-a018-8af5db4fd8c0"
      },
      "execution_count": 28,
      "outputs": [
        {
          "output_type": "stream",
          "name": "stdout",
          "text": [
            "{1, 2, 3, 4, 5}\n"
          ]
        }
      ]
    },
    {
      "cell_type": "markdown",
      "source": [
        "## 24. Write a code to add the element 6 to the set {1, 2, 3, 4}."
      ],
      "metadata": {
        "id": "8wZoRes-hb0i"
      }
    },
    {
      "cell_type": "code",
      "source": [
        "my_set = {1, 2, 3, 4}\n",
        "my_set.add(6)\n",
        "print(my_set)"
      ],
      "metadata": {
        "colab": {
          "base_uri": "https://localhost:8080/"
        },
        "id": "xWjQBKMLhjYw",
        "outputId": "35196ca3-84e3-4bc9-dcb8-60f041870f4e"
      },
      "execution_count": 29,
      "outputs": [
        {
          "output_type": "stream",
          "name": "stdout",
          "text": [
            "{1, 2, 3, 4, 6}\n"
          ]
        }
      ]
    },
    {
      "cell_type": "code",
      "source": [],
      "metadata": {
        "id": "3eR-VI_ohpcu"
      },
      "execution_count": null,
      "outputs": []
    }
  ]
}